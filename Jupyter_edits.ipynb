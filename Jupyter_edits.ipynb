{
 "cells": [
  {
   "cell_type": "markdown",
   "source": [
    "# **Markdown in Jupyter Notebook**\r\n",
    "\r\n",
    "In this tutuorial, you'll learn how to use and write with different markup tags in Jupyter NoteBook.\r\n",
    "1. Headings\r\n",
    "2. Bold\r\n",
    "3. Italic\r\n",
    "4. Bullets\r\n",
    "5. Numerical Lists\r\n",
    "6. Mathematical Symbols\r\n",
    "7. Indented Quoting\r\n",
    "8. Line Breaks\r\n",
    "9. Images\r\n",
    "10. Colors\r\n",
    "11. Links\r\n",
    "12. Horizontal Line\r\n",
    "13. Monospace font\r\n",
    "14. Insert Table"
   ],
   "metadata": {}
  },
  {
   "cell_type": "markdown",
   "source": [
    "# <b>1. Headings </b>\r\n",
    " Use #'s followed by the blank space for notebook titles and section headings.\r\n",
    "\r\n",
    " # Title\r\n",
    " ## Major Heading\r\n",
    " ### Sub Heading\r\n",
    " #### Last level Heading\r\n",
    " Normal text"
   ],
   "metadata": {}
  },
  {
   "cell_type": "markdown",
   "source": [
    "# **2. Bold**\r\n",
    "Bold can be used in 3 different ways as disussed below.\r\n",
    "\r\n",
    "1. Use code \"< b >\" tags. </br>\r\n",
    "<b>This is Bold text. with '< b >' </b>\r\n",
    "\r\n",
    "2. ' ** ' i.e. double asterisk </br>\r\n",
    "**This is double asterisk bold**\r\n",
    "\r\n",
    "3. ' __ ' i.e. double underscore </br>\r\n",
    "__This is double underscore bold__"
   ],
   "metadata": {}
  },
  {
   "cell_type": "markdown",
   "source": [
    " # **3. Italic**</br>\r\n",
    "Italic can be used in 2 different ways as disussed below.\r\n",
    "\r\n",
    "1. ' * ' i.e. single asterisk </br>\r\n",
    "*This is single asterisk bold*\r\n",
    "\r\n",
    "2. ' _ ' i.e. single underscore </br>\r\n",
    "_This is single underscore bold_"
   ],
   "metadata": {}
  },
  {
   "cell_type": "markdown",
   "source": [
    " # **4. Bullets**</br>\r\n",
    "Bullets are divided into two categories Main bullets and Sub bullets.\r\n",
    "\r\n",
    "## 1. Circular Bullets\r\n",
    "use the ( - ) with space after it or use the asterisk sign ( * ) with a space after it.\r\n",
    "- Main bullets with -\r\n",
    "* Main bullets with *\r\n",
    "\r\n",
    "## 2. Sub Bullets\r\n",
    "To create a sub bullet, use a tab followed a dash and a space. You can also use an astrisk instead of a dash, and it works the same.\r\n",
    "- Main bullets with -\r\n",
    "    - Sub bullets with -\r\n",
    "* Main bullets with *\r\n",
    "    * Sub bullets with *"
   ],
   "metadata": {}
  },
  {
   "cell_type": "markdown",
   "source": [
    "# **5. Numerical Lists**</br>\r\n",
    "Start with 1. followed by a space. then it starts numbering for you. Start each lin with number and a period, then a space tab to ondent to get sub numbering.\r\n",
    "1. Content One\r\n",
    "    1. Content one part one.\r\n",
    "    2. Content one part two. \r\n",
    "2. Content Two\r\n",
    "    1. Content two part one.\r\n",
    "    2. Content two part two.\r\n",
    "    3. content two part three."
   ],
   "metadata": {}
  },
  {
   "cell_type": "markdown",
   "source": [
    "# **6. Mathematical Symbols**</br>\r\n",
    "Use this code: __$ mathematical symbols $__\r\n",
    "\r\n",
    "√$500 $-$ 5 $*$ 10 $÷$ 100 $= ?"
   ],
   "metadata": {}
  },
  {
   "cell_type": "markdown",
   "source": [
    "# **7. Indented Quoting**</br>\r\n",
    "Use a greater than sign **( > )** and then a space, then type the text. The text is indented and has a gray horizontal line to the left of it until the next carriage return.</br>\r\n",
    "> This is 1st line of 1st Blockquotes. </br> This is 1st line of 2nd Blockquotes.\r\n",
    "\r\n",
    "This is to brake two blockquotes.\r\n",
    "\r\n",
    "> This is 2nd line of 1st Blockquotes. </br> This is 2nd line of 2nd Blockquotes."
   ],
   "metadata": {}
  },
  {
   "cell_type": "markdown",
   "source": [
    "# **8. Line Break**</br>\r\n",
    "Sometimes markdown doesn’t make line breaks when you want them. </br>Use 2 spaces or this code for a manual line break: **< br > or < /br >**"
   ],
   "metadata": {}
  },
  {
   "cell_type": "markdown",
   "source": [
    "# **9. Images**</br>\r\n",
    "Images to Jupyter notebook can be made available in two ways.\r\n",
    "## **1. From web page links**\r\n",
    "You can also use Markdown to link to images on the web using the following syntax:\r\n",
    "\r\n",
    "### __! [alt text here] (url-to-image-here)__\r\n",
    "\r\n",
    "The alt text is the alternative text that appears if an image fails to load on webpage; it is also used by screen-reading tools to identify the image to users of the screen-reading tools.\r\n",
    "\r\n",
    "For example, the following syntax:\r\n",
    "\r\n",
    "![Markdown Logo is here.](https://www.fullstackpython.com/img/logos/markdown.png)\r\n",
    "\r\n",
    "will render as follows with an alt text of Markdown Logo is here.:\r\n",
    "## **2. From local storage i.e. pc** \r\n",
    "![Jupyter notebook image](Jupyter_image.png)\r\n",
    "\r\n",
    "<img src=\"Jupyter_image1.png\" alt=\"Drawing\" style=\"width: 800px;\"/>"
   ],
   "metadata": {}
  },
  {
   "cell_type": "markdown",
   "source": [
    "# **10. Colors**</br>\r\n",
    "__< font color=blue|red|green|pink|yellow>Text< /font>__ Not all markdown code works within a font tag, so review your colored text carefully!</br>\r\n",
    "**<font color=blue>This text color is blue with bold</font>**</br>\r\n",
    "**<font color=red>This text color is red with bold</font>**</br>\r\n",
    "**<font color=green>This text color is green with bold</font>**</br>\r\n",
    "**<font color=pink>This text color is pink with bold</font>**</br>\r\n",
    "**<font color=yellow>This text color is yellow with bold</font>**\r\n",
    "\r\n",
    "NOTE: Colors are not dispalyed in Github repository noting to worry,canbe viewed in local view.\r\n"
   ],
   "metadata": {}
  },
  {
   "cell_type": "markdown",
   "source": [
    "# **11. Links**</br>\r\n",
    "You can also use HTML in Markdown cells to create hyperlinks to websites using the following syntax:\r\n",
    "###  **< a href=\"url\" target=\"_blank\">hyperlinked words</a>**\r\n",
    "You can identify the words that will be hyperlinked (i.e. prompt a web page to open when clicked) by replacing hyperlinked words in the example above.\r\n",
    "\r\n",
    "For example, the following syntax:\r\n",
    "My GitHub account can be found at this page <a href=\"https://github.com/DeepakGowdaK\" target=\"_blank\">Click Here..</a>."
   ],
   "metadata": {}
  },
  {
   "cell_type": "markdown",
   "source": [
    "# **12. Horizontal Lines**</br>\r\n",
    "Use three asterisks: ***\r\n",
    "\r\n",
    "Hoo Line One \r\n",
    "***\r\n",
    "Hoo Line two\r\n",
    "***"
   ],
   "metadata": {}
  },
  {
   "cell_type": "markdown",
   "source": [
    "# **13. Monospace font**</br>\r\n",
    "Surround text with a back single quotation mark. (`) Use monospace for file path and file names and for text users enter or message text users see.\r\n",
    "\r\n",
    "`This is monospace font`"
   ],
   "metadata": {}
  },
  {
   "cell_type": "markdown",
   "source": [
    "# **14. Insert table**  \r\n",
    "To insert table use ` | ` pipe operator to create table,once the header row is completed we need to use ` - ` operator to start with row entry each seperated by ` | ` operator.  \r\n",
    "\r\n",
    "Usage  \r\n",
    "Operator|\tExample|\tSame As|Output|\r\n",
    "|---|---|---|---|\r\n",
    "|=\t|x = 5|\tx = 5|5|\t\r\n",
    "|+=\t|x += 3\t|x = x + 3|8|"
   ],
   "metadata": {}
  },
  {
   "cell_type": "markdown",
   "source": [],
   "metadata": {}
  }
 ],
 "metadata": {
  "orig_nbformat": 4,
  "language_info": {
   "name": "python"
  }
 },
 "nbformat": 4,
 "nbformat_minor": 2
}